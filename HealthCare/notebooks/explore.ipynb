{
 "cells": [
  {
   "cell_type": "code",
   "execution_count": 11,
   "id": "01a1cb13",
   "metadata": {},
   "outputs": [],
   "source": [
    "import pandas as pd\n",
    "from sklearn.preprocessing import MultiLabelBinarizer\n",
    "\n",
    "df = pd.read_csv(\"../data/Diseases_Symptoms.csv\")\n",
    "\n",
    "# Drop duplicates\n",
    "df = df.drop_duplicates()\n",
    "\n",
    "# Handle rare diseases\n",
    "disease_counts = df['Name'].value_counts()\n",
    "rare_diseases = disease_counts[disease_counts <= 1].index\n",
    "df['Name'] = df['Name'].replace(rare_diseases, 'Other')\n",
    "\n",
    "\n",
    "# Clean symptoms\n",
    "df['Symptoms'] = df['Symptoms'].apply(lambda x: list(set([s.strip().lower() for s in x.split(',')])))\n",
    "\n",
    "# Encode symptoms into features\n",
    "mlb = MultiLabelBinarizer()\n",
    "symptom_features = mlb.fit_transform(df['Symptoms'])\n",
    "X = pd.DataFrame(symptom_features, columns=mlb.classes_)\n",
    "\n",
    "y = df['Name']          # For RandomForest\n",
    "# Optional: use LabelEncoder\n",
    "# le = LabelEncoder()\n",
    "# y_encoded = le.fit_transform(df['Name'])\n",
    "\n",
    "# Map disease to treatments\n",
    "disease_to_treatments = dict(zip(df['Name'], df['Treatments']))\n",
    "\n"
   ]
  }
 ],
 "metadata": {
  "kernelspec": {
   "display_name": "venv",
   "language": "python",
   "name": "python3"
  },
  "language_info": {
   "codemirror_mode": {
    "name": "ipython",
    "version": 3
   },
   "file_extension": ".py",
   "mimetype": "text/x-python",
   "name": "python",
   "nbconvert_exporter": "python",
   "pygments_lexer": "ipython3",
   "version": "3.13.5"
  }
 },
 "nbformat": 4,
 "nbformat_minor": 5
}
